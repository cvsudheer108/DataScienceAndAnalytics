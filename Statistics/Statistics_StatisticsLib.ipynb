{
 "cells": [
  {
   "cell_type": "markdown",
   "metadata": {},
   "source": [
    "## Mode , Mean & Median\n",
    "Mode - Most occuring value in a dataset <br/>\n",
    "Mean - Average of values, is not robust, any extreme value can change it significantly <br/>\n",
    "These extreme values are called \"outlier\" values <br/>\n",
    "Median - Sort the values, find the middle value if odd, or average of middle values if even\n"
   ]
  },
  {
   "cell_type": "code",
   "execution_count": 3,
   "metadata": {},
   "outputs": [
    {
     "name": "stdout",
     "output_type": "stream",
     "text": [
      "1\n",
      "12.9\n",
      "8\n"
     ]
    }
   ],
   "source": [
    "#Mode\n",
    "l = [1,1,1,2,2,3]\n",
    "import statistics\n",
    "print(statistics.mode(l))   # IF there are multiple equal recurring values, error\n",
    "\n",
    "#Mean\n",
    "\n",
    "l1 = [ 2, 3, 5, 7, 11, 13, 17, 19, 23, 29]\n",
    "print(statistics.mean(l1))\n",
    "\n",
    "#Median\n",
    "l1 = [ 2, 8, 8, 12 ,20]\n",
    "print(statistics.median(l1))\n"
   ]
  },
  {
   "cell_type": "code",
   "execution_count": null,
   "metadata": {},
   "outputs": [],
   "source": []
  },
  {
   "cell_type": "code",
   "execution_count": null,
   "metadata": {},
   "outputs": [],
   "source": []
  },
  {
   "cell_type": "code",
   "execution_count": null,
   "metadata": {},
   "outputs": [],
   "source": [
    "\n"
   ]
  },
  {
   "cell_type": "code",
   "execution_count": null,
   "metadata": {},
   "outputs": [],
   "source": []
  },
  {
   "cell_type": "code",
   "execution_count": 4,
   "metadata": {},
   "outputs": [
    {
     "name": "stdout",
     "output_type": "stream",
     "text": [
      "arr :  [20, 2, 7, 1, 34]\n",
      "Q1 quantile of arr :  2.0\n",
      "Q2 quantile of arr :  7.0\n",
      "Q3 quantile of arr :  20.0\n"
     ]
    }
   ],
   "source": [
    "\n"
   ]
  },
  {
   "cell_type": "code",
   "execution_count": null,
   "metadata": {},
   "outputs": [],
   "source": []
  },
  {
   "cell_type": "markdown",
   "metadata": {},
   "source": []
  },
  {
   "cell_type": "code",
   "execution_count": 11,
   "metadata": {},
   "outputs": [
    {
     "name": "stdout",
     "output_type": "stream",
     "text": [
      "[ 1.2  0.2  2.2 -1.8 -3.8  1.2  0.2  1.2  0.2 -0.8]\n",
      "[ 1.44  0.04  4.84  3.24 14.44  1.44  0.04  1.44  0.04  0.64]\n",
      "variance calculated :  5.8\n",
      "variance with numpy:  2.7600000000000002\n"
     ]
    }
   ],
   "source": [
    "import numpy as np \n",
    "\n",
    "###################### Calculate varaince using the long way #######################\n",
    "#arr = [20, 2, 7, 1, 34] # Variamce : 158\n",
    "#arr = [5, 7, 8, 9, 11]  #Variace = 4.0\n",
    "#arr = [5, 7, 8, 9, 34]   #variance = 116\n",
    "arr = [7, 6, 8, 4, 2, 7, 6, 7, 6, 5]   #variance = 2.7\n",
    "\n",
    "#Calcuate mean\n",
    "mean = np.mean(arr)\n",
    "#Find differnces\n",
    "diff = arr - mean\n",
    "print (diff)\n",
    "#Find Squared differencess\n",
    "sqrd_diff = diff ** 2\n",
    "print(sqrd_diff)\n",
    "#Variance : Mean of these squared values\n",
    "print(\"variance calculated : \", np.mean(arr))\n",
    "\n",
    "##############################Calcualte variance directly#############################\n",
    "print(\"variance with numpy: \", np.var(arr))"
   ]
  },
  {
   "cell_type": "markdown",
   "metadata": {},
   "source": [
    "### Variance using Numpy"
   ]
  },
  {
   "cell_type": "code",
   "execution_count": 12,
   "metadata": {},
   "outputs": [
    {
     "name": "stdout",
     "output_type": "stream",
     "text": [
      "arr :  [20, 2, 7, 1, 34]\n",
      "var of arr :  158.16\n",
      "\n",
      "var of arr :  158.16\n",
      "\n",
      "var of arr :  158.16\n"
     ]
    }
   ],
   "source": [
    "import numpy as np  \n",
    "      \n",
    "# 1D array  \n",
    "arr = [20, 2, 7, 1, 34]  \n",
    "  \n",
    "print(\"arr : \", arr)  \n",
    "print(\"var of arr : \", np.var(arr))  \n",
    "  \n",
    "print(\"\\nvar of arr : \", np.var(arr, dtype = np.float32))  \n",
    "print(\"\\nvar of arr : \", np.var(arr, dtype = np.float64))  "
   ]
  },
  {
   "cell_type": "code",
   "execution_count": null,
   "metadata": {},
   "outputs": [],
   "source": []
  },
  {
   "cell_type": "code",
   "execution_count": null,
   "metadata": {},
   "outputs": [],
   "source": []
  },
  {
   "cell_type": "code",
   "execution_count": null,
   "metadata": {},
   "outputs": [],
   "source": []
  }
 ],
 "metadata": {
  "kernelspec": {
   "display_name": "Python 3",
   "language": "python",
   "name": "python3"
  },
  "language_info": {
   "codemirror_mode": {
    "name": "ipython",
    "version": 3
   },
   "file_extension": ".py",
   "mimetype": "text/x-python",
   "name": "python",
   "nbconvert_exporter": "python",
   "pygments_lexer": "ipython3",
   "version": "3.7.1"
  }
 },
 "nbformat": 4,
 "nbformat_minor": 2
}
