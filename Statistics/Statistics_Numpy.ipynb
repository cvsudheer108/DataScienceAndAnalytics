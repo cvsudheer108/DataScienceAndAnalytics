{
 "cells": [
  {
   "cell_type": "markdown",
   "metadata": {},
   "source": [
    "## Numpy:"
   ]
  },
  {
   "cell_type": "markdown",
   "metadata": {},
   "source": [
    "## Quartile Calculation using numpy"
   ]
  },
  {
   "cell_type": "code",
   "execution_count": 1,
   "metadata": {},
   "outputs": [
    {
     "name": "stdout",
     "output_type": "stream",
     "text": [
      "arr :  [20, 2, 7, 1, 34]\n",
      "Q1 quantile of arr :  2.0\n",
      "Q2 quantile of arr :  7.0\n",
      "Q3 quantile of arr :  20.0\n"
     ]
    }
   ],
   "source": [
    "import numpy as np \n",
    "\n",
    "# 1D array  \n",
    "arr = [20, 2, 7, 1, 34] \n",
    "\n",
    "# Sorted : 1,2,7,20,34\n",
    "# Q1 : Median of first part : [1,2,7] = 2\n",
    "# Q2 : Median of the whole set : 7\n",
    "# Q3 : Median of second part : [7,20,34] : 20\n",
    "  \n",
    "print(\"arr : \", arr)  \n",
    "print(\"Q1 quantile of arr : \", np.quantile(arr, .25)) \n",
    "print(\"Q2 quantile of arr : \", np.quantile(arr, .50)) \n",
    "print(\"Q3 quantile of arr : \", np.quantile(arr, .75)) "
   ]
  },
  {
   "cell_type": "markdown",
   "metadata": {},
   "source": [
    "## Variance using Numpy<br/>\n",
    "Is the average of (squared differences) from mean.\n"
   ]
  },
  {
   "cell_type": "code",
   "execution_count": null,
   "metadata": {},
   "outputs": [],
   "source": []
  },
  {
   "cell_type": "code",
   "execution_count": null,
   "metadata": {},
   "outputs": [],
   "source": []
  },
  {
   "cell_type": "code",
   "execution_count": null,
   "metadata": {},
   "outputs": [],
   "source": []
  },
  {
   "cell_type": "code",
   "execution_count": null,
   "metadata": {},
   "outputs": [],
   "source": []
  }
 ],
 "metadata": {
  "kernelspec": {
   "display_name": "Python 3",
   "language": "python",
   "name": "python3"
  },
  "language_info": {
   "codemirror_mode": {
    "name": "ipython",
    "version": 3
   },
   "file_extension": ".py",
   "mimetype": "text/x-python",
   "name": "python",
   "nbconvert_exporter": "python",
   "pygments_lexer": "ipython3",
   "version": "3.7.1"
  }
 },
 "nbformat": 4,
 "nbformat_minor": 2
}
